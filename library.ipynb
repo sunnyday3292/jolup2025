# ------------------------- 라이브러리 설치 -------------------------
!pip install ultralytics gymnasium torch torchvision torchaudio --quiet

import cv2
import numpy as np
import torch
import torch.nn as nn
import torch.optim as optim
import random
from collections import deque
import gymnasium as gym
from gymnasium import spaces
from ultralytics import YOLO
from google.colab.patches import cv2_imshow

